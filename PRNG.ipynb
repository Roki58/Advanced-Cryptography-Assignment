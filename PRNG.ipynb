{
  "nbformat": 4,
  "nbformat_minor": 0,
  "metadata": {
    "colab": {
      "provenance": [],
      "authorship_tag": "ABX9TyOSEHmNyclTCHbyiskJolE2",
      "include_colab_link": true
    },
    "kernelspec": {
      "name": "python3",
      "display_name": "Python 3"
    },
    "language_info": {
      "name": "python"
    }
  },
  "cells": [
    {
      "cell_type": "markdown",
      "metadata": {
        "id": "view-in-github",
        "colab_type": "text"
      },
      "source": [
        "<a href=\"https://colab.research.google.com/github/Roki58/Advanced-Cryptography-Assignment/blob/main/PRNG.ipynb\" target=\"_parent\"><img src=\"https://colab.research.google.com/assets/colab-badge.svg\" alt=\"Open In Colab\"/></a>"
      ]
    },
    {
      "cell_type": "code",
      "execution_count": null,
      "metadata": {
        "id": "OvM_mappgmim"
      },
      "outputs": [],
      "source": []
    },
    {
      "cell_type": "markdown",
      "source": [
        "PRNG Generate\n"
      ],
      "metadata": {
        "id": "1I5OmaHygndM"
      }
    },
    {
      "cell_type": "markdown",
      "source": [],
      "metadata": {
        "id": "a-YGV-xogsje"
      }
    },
    {
      "cell_type": "code",
      "source": [
        "import time\n",
        "\n",
        "class HCXG:\n",
        "    def __init__(self, seed=None):\n",
        "        if seed is None:\n",
        "            seed = int(time.time() * 1000000)  # Use high-res timestamp as seed\n",
        "        self.state = seed & 0xFFFFFFFF  # 32-bit internal state\n",
        "        self.chaotic_state = (seed % 999983) / 999983  # Normalized seed\n",
        "\n",
        "    def logistic_map(self):\n",
        "        \"\"\"Applies the logistic map to introduce non-linearity\"\"\"\n",
        "        r = 3.999  # Near the edge of chaos\n",
        "        self.chaotic_state = r * self.chaotic_state * (1 - self.chaotic_state)\n",
        "        return int(self.chaotic_state * 2**32) & 0xFFFFFFFF\n",
        "\n",
        "    def next(self):\n",
        "        \"\"\"Generates a new random number\"\"\"\n",
        "        self.state ^= (self.state << 13) & 0xFFFFFFFF\n",
        "        self.state ^= (self.state >> 17) & 0xFFFFFFFF\n",
        "        self.state ^= (self.state << 5) & 0xFFFFFFFF\n",
        "\n",
        "        chaotic_value = self.logistic_map()  # Get chaotic influence\n",
        "        self.state = (self.state + chaotic_value) % (2**32)  # Mix\n",
        "\n",
        "        return self.state\n",
        "\n",
        "# Example usage:\n",
        "prng = HCXG(seed=123456789)\n",
        "for _ in range(10):\n",
        "    print(prng.next())\n"
      ],
      "metadata": {
        "colab": {
          "base_uri": "https://localhost:8080/"
        },
        "id": "SPUjwCMGgtFO",
        "outputId": "d553a0d1-01cb-458b-d9db-45bc467060f4"
      },
      "execution_count": 1,
      "outputs": [
        {
          "output_type": "stream",
          "name": "stdout",
          "text": [
            "2684863762\n",
            "1395692644\n",
            "2448299599\n",
            "2594585373\n",
            "3624827254\n",
            "637040691\n",
            "402305326\n",
            "1733123209\n",
            "2640654072\n",
            "4218033632\n"
          ]
        }
      ]
    }
  ]
}